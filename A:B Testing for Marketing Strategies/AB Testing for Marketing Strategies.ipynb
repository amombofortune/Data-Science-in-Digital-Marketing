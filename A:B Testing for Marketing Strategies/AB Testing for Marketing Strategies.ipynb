{
 "cells": [
  {
   "cell_type": "markdown",
   "id": "ab061258",
   "metadata": {},
   "source": [
    "## Introduction "
   ]
  },
  {
   "cell_type": "markdown",
   "id": "a16f0c4b",
   "metadata": {},
   "source": [
    "A/B testing helps us to test whether our idea is going to work or not. Typically, there is a lot of guesswork involved when coming up with new marketing ideas, and often there is a lack of tools, resources, or even motivation to test whether any of your marketing ideas will work.\n",
    "\n",
    "However, this way of putting your marketing strategy ideas into work is risky and can be very costly. What if you spent lots of money on your new marketing campaign and it did not help you reach your marketing goal at all? What if you spent hundreds of hours refining your marketing message and it never attracted your prospects to engage with your marketing message?"
   ]
  },
  {
   "cell_type": "markdown",
   "id": "c3a53954",
   "metadata": {},
   "source": [
    "## A/B Testing "
   ]
  },
  {
   "cell_type": "markdown",
   "id": "a1e90f2d",
   "metadata": {},
   "source": [
    "A/B testing is essentially a method of comparing and testing the effectiveness and benefits of two different business strategies. It can be considered as an experiment where two or more variants are tested for a set period of time and then the experiment results are evaluated to find the strategy that works best.\n",
    "\n",
    "Consider a case where your goal is to improve marketing email open rates. If your hypothesis is that email subject line B will result in higher open rates than email subject line A, then you would run an A/B test with these two subject lines. You will randomly select half of the users and send out marketing emails with subject line A. The other half of randomly selected users will receive emails with subject line B. You will run this test for a predetermined period of time (which could be one week, two weeks, or one month, for instance) or until a predetermined number of users receive the two versions of emails (which is a minimum of 1,000 users to receive each version of the subject line). Once your tests are complete, then you analyze and evaluate the experiment results. When analyzing the results, you will need to check whether there is a statistically significant difference between the results of the two versions."
   ]
  },
  {
   "cell_type": "markdown",
   "id": "15da4645",
   "metadata": {},
   "source": [
    "## Statistical hypothesis testing  "
   ]
  },
  {
   "cell_type": "markdown",
   "id": "f62c3b44",
   "metadata": {},
   "source": [
    "Student's t-test, or simply the t-test, is frequently used to test whether the difference between two tests is statistically significant. The t-test compares the two averages and examines whether they are significantly different from each other.\n",
    "\n",
    "There are two important statistics in a t-test—the t-value and p-value. The t-value measures the degree of difference relative to the variation in the data. The larger the t-value is, the more difference there is between the two groups. On the other hand, the p-value measures the probability that the results would occur by chance.\n",
    "\n",
    "The smaller the p-value is, the more statistically significant difference ther will be between the two groups."
   ]
  },
  {
   "cell_type": "markdown",
   "id": "f2887a8c",
   "metadata": {},
   "source": [
    "### Null and alternative hypotheses "
   ]
  },
  {
   "cell_type": "markdown",
   "id": "d3a9011f",
   "metadata": {},
   "source": [
    "The null hypothesis is that the two groups show no statistically significant difference. \n",
    "\n",
    "On the other hand, the alternate hypothesis states that the two groups show a statistically significant difference. When the t-value is larger than a threshold and the p-value is smaller than a threshold, we say that we can reject the null hypothesis and that the two groups show a statistically significant difference. Typically, 0.01 or 0.05 are used as the p-value thresholds for testing statistical significance. If the p-value is less than 0.05, then it suggests that there is less than 5% probability that the difference between the two groups occurs by chance. In other words, the difference is highly unlikely to be by chance."
   ]
  },
  {
   "cell_type": "code",
   "execution_count": 1,
   "id": "f99398b4",
   "metadata": {},
   "outputs": [],
   "source": [
    "%matplotlib inline"
   ]
  },
  {
   "cell_type": "code",
   "execution_count": 2,
   "id": "d6b0874e",
   "metadata": {},
   "outputs": [],
   "source": [
    "import matplotlib.pyplot as plt\n",
    "import pandas as pd"
   ]
  },
  {
   "cell_type": "code",
   "execution_count": 18,
   "id": "9eac2b87",
   "metadata": {},
   "outputs": [
    {
     "data": {
      "text/html": [
       "<div>\n",
       "<style scoped>\n",
       "    .dataframe tbody tr th:only-of-type {\n",
       "        vertical-align: middle;\n",
       "    }\n",
       "\n",
       "    .dataframe tbody tr th {\n",
       "        vertical-align: top;\n",
       "    }\n",
       "\n",
       "    .dataframe thead th {\n",
       "        text-align: right;\n",
       "    }\n",
       "</style>\n",
       "<table border=\"1\" class=\"dataframe\">\n",
       "  <thead>\n",
       "    <tr style=\"text-align: right;\">\n",
       "      <th></th>\n",
       "      <th>MarketID</th>\n",
       "      <th>MarketSize</th>\n",
       "      <th>LocationID</th>\n",
       "      <th>AgeOfStore</th>\n",
       "      <th>Promotion</th>\n",
       "      <th>week</th>\n",
       "      <th>SalesInThousands</th>\n",
       "    </tr>\n",
       "  </thead>\n",
       "  <tbody>\n",
       "    <tr>\n",
       "      <th>0</th>\n",
       "      <td>1</td>\n",
       "      <td>Medium</td>\n",
       "      <td>1</td>\n",
       "      <td>4</td>\n",
       "      <td>3</td>\n",
       "      <td>1</td>\n",
       "      <td>33.73</td>\n",
       "    </tr>\n",
       "    <tr>\n",
       "      <th>1</th>\n",
       "      <td>1</td>\n",
       "      <td>Medium</td>\n",
       "      <td>1</td>\n",
       "      <td>4</td>\n",
       "      <td>3</td>\n",
       "      <td>2</td>\n",
       "      <td>35.67</td>\n",
       "    </tr>\n",
       "    <tr>\n",
       "      <th>2</th>\n",
       "      <td>1</td>\n",
       "      <td>Medium</td>\n",
       "      <td>1</td>\n",
       "      <td>4</td>\n",
       "      <td>3</td>\n",
       "      <td>3</td>\n",
       "      <td>29.03</td>\n",
       "    </tr>\n",
       "    <tr>\n",
       "      <th>3</th>\n",
       "      <td>1</td>\n",
       "      <td>Medium</td>\n",
       "      <td>1</td>\n",
       "      <td>4</td>\n",
       "      <td>3</td>\n",
       "      <td>4</td>\n",
       "      <td>39.25</td>\n",
       "    </tr>\n",
       "    <tr>\n",
       "      <th>4</th>\n",
       "      <td>1</td>\n",
       "      <td>Medium</td>\n",
       "      <td>2</td>\n",
       "      <td>5</td>\n",
       "      <td>2</td>\n",
       "      <td>1</td>\n",
       "      <td>27.81</td>\n",
       "    </tr>\n",
       "    <tr>\n",
       "      <th>5</th>\n",
       "      <td>1</td>\n",
       "      <td>Medium</td>\n",
       "      <td>2</td>\n",
       "      <td>5</td>\n",
       "      <td>2</td>\n",
       "      <td>2</td>\n",
       "      <td>34.67</td>\n",
       "    </tr>\n",
       "    <tr>\n",
       "      <th>6</th>\n",
       "      <td>1</td>\n",
       "      <td>Medium</td>\n",
       "      <td>2</td>\n",
       "      <td>5</td>\n",
       "      <td>2</td>\n",
       "      <td>3</td>\n",
       "      <td>27.98</td>\n",
       "    </tr>\n",
       "    <tr>\n",
       "      <th>7</th>\n",
       "      <td>1</td>\n",
       "      <td>Medium</td>\n",
       "      <td>2</td>\n",
       "      <td>5</td>\n",
       "      <td>2</td>\n",
       "      <td>4</td>\n",
       "      <td>27.72</td>\n",
       "    </tr>\n",
       "    <tr>\n",
       "      <th>8</th>\n",
       "      <td>1</td>\n",
       "      <td>Medium</td>\n",
       "      <td>3</td>\n",
       "      <td>12</td>\n",
       "      <td>1</td>\n",
       "      <td>1</td>\n",
       "      <td>44.54</td>\n",
       "    </tr>\n",
       "    <tr>\n",
       "      <th>9</th>\n",
       "      <td>1</td>\n",
       "      <td>Medium</td>\n",
       "      <td>3</td>\n",
       "      <td>12</td>\n",
       "      <td>1</td>\n",
       "      <td>2</td>\n",
       "      <td>37.94</td>\n",
       "    </tr>\n",
       "    <tr>\n",
       "      <th>10</th>\n",
       "      <td>1</td>\n",
       "      <td>Medium</td>\n",
       "      <td>3</td>\n",
       "      <td>12</td>\n",
       "      <td>1</td>\n",
       "      <td>3</td>\n",
       "      <td>45.49</td>\n",
       "    </tr>\n",
       "    <tr>\n",
       "      <th>11</th>\n",
       "      <td>1</td>\n",
       "      <td>Medium</td>\n",
       "      <td>3</td>\n",
       "      <td>12</td>\n",
       "      <td>1</td>\n",
       "      <td>4</td>\n",
       "      <td>34.75</td>\n",
       "    </tr>\n",
       "    <tr>\n",
       "      <th>12</th>\n",
       "      <td>1</td>\n",
       "      <td>Medium</td>\n",
       "      <td>4</td>\n",
       "      <td>1</td>\n",
       "      <td>2</td>\n",
       "      <td>1</td>\n",
       "      <td>39.28</td>\n",
       "    </tr>\n",
       "    <tr>\n",
       "      <th>13</th>\n",
       "      <td>1</td>\n",
       "      <td>Medium</td>\n",
       "      <td>4</td>\n",
       "      <td>1</td>\n",
       "      <td>2</td>\n",
       "      <td>2</td>\n",
       "      <td>39.80</td>\n",
       "    </tr>\n",
       "    <tr>\n",
       "      <th>14</th>\n",
       "      <td>1</td>\n",
       "      <td>Medium</td>\n",
       "      <td>4</td>\n",
       "      <td>1</td>\n",
       "      <td>2</td>\n",
       "      <td>3</td>\n",
       "      <td>24.77</td>\n",
       "    </tr>\n",
       "    <tr>\n",
       "      <th>15</th>\n",
       "      <td>1</td>\n",
       "      <td>Medium</td>\n",
       "      <td>4</td>\n",
       "      <td>1</td>\n",
       "      <td>2</td>\n",
       "      <td>4</td>\n",
       "      <td>30.98</td>\n",
       "    </tr>\n",
       "    <tr>\n",
       "      <th>16</th>\n",
       "      <td>1</td>\n",
       "      <td>Medium</td>\n",
       "      <td>5</td>\n",
       "      <td>10</td>\n",
       "      <td>2</td>\n",
       "      <td>1</td>\n",
       "      <td>30.37</td>\n",
       "    </tr>\n",
       "    <tr>\n",
       "      <th>17</th>\n",
       "      <td>1</td>\n",
       "      <td>Medium</td>\n",
       "      <td>5</td>\n",
       "      <td>10</td>\n",
       "      <td>2</td>\n",
       "      <td>2</td>\n",
       "      <td>24.82</td>\n",
       "    </tr>\n",
       "    <tr>\n",
       "      <th>18</th>\n",
       "      <td>1</td>\n",
       "      <td>Medium</td>\n",
       "      <td>5</td>\n",
       "      <td>10</td>\n",
       "      <td>2</td>\n",
       "      <td>3</td>\n",
       "      <td>37.47</td>\n",
       "    </tr>\n",
       "    <tr>\n",
       "      <th>19</th>\n",
       "      <td>1</td>\n",
       "      <td>Medium</td>\n",
       "      <td>5</td>\n",
       "      <td>10</td>\n",
       "      <td>2</td>\n",
       "      <td>4</td>\n",
       "      <td>23.35</td>\n",
       "    </tr>\n",
       "  </tbody>\n",
       "</table>\n",
       "</div>"
      ],
      "text/plain": [
       "    MarketID MarketSize  LocationID  AgeOfStore  Promotion  week  \\\n",
       "0          1     Medium           1           4          3     1   \n",
       "1          1     Medium           1           4          3     2   \n",
       "2          1     Medium           1           4          3     3   \n",
       "3          1     Medium           1           4          3     4   \n",
       "4          1     Medium           2           5          2     1   \n",
       "5          1     Medium           2           5          2     2   \n",
       "6          1     Medium           2           5          2     3   \n",
       "7          1     Medium           2           5          2     4   \n",
       "8          1     Medium           3          12          1     1   \n",
       "9          1     Medium           3          12          1     2   \n",
       "10         1     Medium           3          12          1     3   \n",
       "11         1     Medium           3          12          1     4   \n",
       "12         1     Medium           4           1          2     1   \n",
       "13         1     Medium           4           1          2     2   \n",
       "14         1     Medium           4           1          2     3   \n",
       "15         1     Medium           4           1          2     4   \n",
       "16         1     Medium           5          10          2     1   \n",
       "17         1     Medium           5          10          2     2   \n",
       "18         1     Medium           5          10          2     3   \n",
       "19         1     Medium           5          10          2     4   \n",
       "\n",
       "    SalesInThousands  \n",
       "0              33.73  \n",
       "1              35.67  \n",
       "2              29.03  \n",
       "3              39.25  \n",
       "4              27.81  \n",
       "5              34.67  \n",
       "6              27.98  \n",
       "7              27.72  \n",
       "8              44.54  \n",
       "9              37.94  \n",
       "10             45.49  \n",
       "11             34.75  \n",
       "12             39.28  \n",
       "13             39.80  \n",
       "14             24.77  \n",
       "15             30.98  \n",
       "16             30.37  \n",
       "17             24.82  \n",
       "18             37.47  \n",
       "19             23.35  "
      ]
     },
     "execution_count": 18,
     "metadata": {},
     "output_type": "execute_result"
    }
   ],
   "source": [
    "df = pd.read_csv(\"./ab_test.csv\")\n",
    "df.head(20)"
   ]
  },
  {
   "cell_type": "markdown",
   "id": "83a7aa86",
   "metadata": {},
   "source": [
    "There are a total of seven variables in the dataset.\n",
    "\n",
    "1. MarketID: unique identifier for market\n",
    "2. MarketSize: size of market area by sales\n",
    "3. LocationID: unique identifier for store location\n",
    "4. AgeOfStore: age of store in years\n",
    "5. Promotion: one of three promotions that was tested\n",
    "6. week: one of four weeks when the promotions were run\n",
    "7. SalesInThousands: sales amount for specific LocationID, Promotion, and week"
   ]
  },
  {
   "cell_type": "code",
   "execution_count": 17,
   "id": "124dc9a2",
   "metadata": {},
   "outputs": [
    {
     "data": {
      "text/plain": [
       "(548, 7)"
      ]
     },
     "execution_count": 17,
     "metadata": {},
     "output_type": "execute_result"
    }
   ],
   "source": [
    "df.shape"
   ]
  },
  {
   "cell_type": "markdown",
   "id": "89a1fa23",
   "metadata": {},
   "source": [
    "### Exploratory Data Analysis "
   ]
  },
  {
   "cell_type": "markdown",
   "id": "03c28f70",
   "metadata": {},
   "source": [
    "Let us look at the total sales distribution across different promotions. As you can see from the code below, we are grouping the data by the Promotion column and aggregating the total sales amount by summing over the SalesInThousands column."
   ]
  },
  {
   "cell_type": "code",
   "execution_count": 19,
   "id": "8a7b93a8",
   "metadata": {},
   "outputs": [
    {
     "data": {
      "image/png": "[encoded data removed]",
      "text/plain": [
       "<Figure size 504x504 with 1 Axes>"
      ]
     },
     "metadata": {},
     "output_type": "display_data"
    }
   ],
   "source": [
    "ax = df.groupby(\n",
    "    'Promotion')\n",
    ".sum()['SalesInThousands']\n",
    ".plot.pie(figsize=(7,7), \n",
    "          autopct='%1.0f%%')"
   ]
  },
  {
   "cell_type": "markdown",
   "id": "187e5984",
   "metadata": {},
   "source": [
    "As seen from the pie chart, promotion group 3 has the largest aggregate sales among the three groups. However, each promotion group takes roughly about one third of the total sales during the promotion weeks.  "
   ]
  },
  {
   "cell_type": "markdown",
   "id": "770c7652",
   "metadata": {},
   "source": [
    "Similarly, we can also visualize the compositions of different market sizes in each promotional group"
   ]
  },
  {
   "cell_type": "code",
   "execution_count": 20,
   "id": "ca998ec9",
   "metadata": {},
   "outputs": [
    {
     "data": {
      "image/png": "[encoded data removed]",
      "text/plain": [
       "<Figure size 864x720 with 1 Axes>"
      ]
     },
     "metadata": {
      "needs_background": "light"
     },
     "output_type": "display_data"
    }
   ],
   "source": [
    "ax = df.groupby([\n",
    "    \"Promotion\", \"MarketSize\"\n",
    "]).count()[\n",
    "    'MarketID'\n",
    "].unstack(\n",
    "'MarketSize').plot(\n",
    "kind='bar',\n",
    "figsize=(12,10),\n",
    "grid=True,\n",
    ")\n",
    "\n",
    "ax.set_ylabel('count')\n",
    "ax.set_title('Breakdown of market sizes across different promotions')\n",
    "\n",
    "plt.show()"
   ]
  },
  {
   "cell_type": "markdown",
   "id": "07e9e207",
   "metadata": {},
   "source": [
    "We can make it much easier to view by displaying the data in a stacked bar plot"
   ]
  },
  {
   "cell_type": "code",
   "execution_count": 21,
   "id": "65c17c09",
   "metadata": {},
   "outputs": [
    {
     "data": {
      "image/png": "[encoded data removed]",
      "text/plain": [
       "<Figure size 864x720 with 1 Axes>"
      ]
     },
     "metadata": {
      "needs_background": "light"
     },
     "output_type": "display_data"
    }
   ],
   "source": [
    "ax = df.groupby([\n",
    "    'Promotion', 'MarketSize'\n",
    "]).sum()[\n",
    "    'SalesInThousands'\n",
    "].unstack(\n",
    "'MarketSize'\n",
    ").plot(\n",
    "kind='bar',\n",
    "figsize=(12,10),\n",
    "grid=True,\n",
    "stacked=True\n",
    ")\n",
    "\n",
    "ax.set_ylabel('Sales (in Thousands)')\n",
    "ax.set_title('breakdowns of market sizes across different promotions')\n",
    "\n",
    "plt.show()"
   ]
  },
  {
   "cell_type": "markdown",
   "id": "38c4d47e",
   "metadata": {},
   "source": [
    "As we can see, the medium market size occupies the most among all three promotion groups, while the small market size occupies the least."
   ]
  },
  {
   "cell_type": "markdown",
   "id": "6f192d59",
   "metadata": {},
   "source": [
    "Let's look at AgeofStore and its overall distribution across all different promotional groups"
   ]
  },
  {
   "cell_type": "code",
   "execution_count": 22,
   "id": "47910349",
   "metadata": {},
   "outputs": [
    {
     "data": {
      "image/png": "[encoded data removed]",
      "text/plain": [
       "<Figure size 720x504 with 1 Axes>"
      ]
     },
     "metadata": {
      "needs_background": "light"
     },
     "output_type": "display_data"
    }
   ],
   "source": [
    "ax = df.groupby(\n",
    "'AgeOfStore'\n",
    ").count()[\n",
    "    'MarketID'\n",
    "].plot(\n",
    "kind='bar',\n",
    "color='skyblue',\n",
    "figsize=(10,7),\n",
    "grid=True\n",
    ")\n",
    "\n",
    "ax.set_xlabel('age')\n",
    "ax.set_ylabel('count')\n",
    "ax.set_title('overall distribution of age store')\n",
    "\n",
    "plt.show()"
   ]
  },
  {
   "cell_type": "markdown",
   "id": "073721ea",
   "metadata": {},
   "source": [
    "As we can see, a large number of stores are 1 year old and the majority of stores are 10 years old or less. Howeverm what we are more interested in is whether the stores in the three different promotion groups have similar store age profiles."
   ]
  },
  {
   "cell_type": "code",
   "execution_count": 23,
   "id": "fee7e0e4",
   "metadata": {},
   "outputs": [
    {
     "data": {
      "image/png": "[encoded data removed]",
      "text/plain": [
       "<Figure size 864x1080 with 1 Axes>"
      ]
     },
     "metadata": {
      "needs_background": "light"
     },
     "output_type": "display_data"
    }
   ],
   "source": [
    "ax = df.groupby(\n",
    "    ['AgeOfStore', 'Promotion']\n",
    ").count()[\n",
    "    'MarketID'\n",
    "].unstack(\n",
    "'Promotion').iloc[::-1].plot(\n",
    "kind='barh',\n",
    "figsize=(12,15),\n",
    "grid=True)\n",
    "\n",
    "ax.set_ylabel('age')\n",
    "ax.set_xlabel('count')\n",
    "ax.set_title('overall distributions of age of store')\n",
    "\n",
    "plt.show()"
   ]
  },
  {
   "cell_type": "markdown",
   "id": "fd216c19",
   "metadata": {},
   "source": [
    "The store age distributions across the three different promotion groups seem to align with each other, but it is quite difficult to digest the information presented from this plot. It will be easier to look at the summary statistics of store ages across the three promotion groups."
   ]
  },
  {
   "cell_type": "code",
   "execution_count": 24,
   "id": "cb80ff98",
   "metadata": {},
   "outputs": [
    {
     "data": {
      "text/html": [
       "<div>\n",
       "<style scoped>\n",
       "    .dataframe tbody tr th:only-of-type {\n",
       "        vertical-align: middle;\n",
       "    }\n",
       "\n",
       "    .dataframe tbody tr th {\n",
       "        vertical-align: top;\n",
       "    }\n",
       "\n",
       "    .dataframe thead th {\n",
       "        text-align: right;\n",
       "    }\n",
       "</style>\n",
       "<table border=\"1\" class=\"dataframe\">\n",
       "  <thead>\n",
       "    <tr style=\"text-align: right;\">\n",
       "      <th></th>\n",
       "      <th>count</th>\n",
       "      <th>mean</th>\n",
       "      <th>std</th>\n",
       "      <th>min</th>\n",
       "      <th>25%</th>\n",
       "      <th>50%</th>\n",
       "      <th>75%</th>\n",
       "      <th>max</th>\n",
       "    </tr>\n",
       "    <tr>\n",
       "      <th>Promotion</th>\n",
       "      <th></th>\n",
       "      <th></th>\n",
       "      <th></th>\n",
       "      <th></th>\n",
       "      <th></th>\n",
       "      <th></th>\n",
       "      <th></th>\n",
       "      <th></th>\n",
       "    </tr>\n",
       "  </thead>\n",
       "  <tbody>\n",
       "    <tr>\n",
       "      <th>1</th>\n",
       "      <td>172.0</td>\n",
       "      <td>8.279070</td>\n",
       "      <td>6.636160</td>\n",
       "      <td>1.0</td>\n",
       "      <td>3.0</td>\n",
       "      <td>6.0</td>\n",
       "      <td>12.0</td>\n",
       "      <td>27.0</td>\n",
       "    </tr>\n",
       "    <tr>\n",
       "      <th>2</th>\n",
       "      <td>188.0</td>\n",
       "      <td>7.978723</td>\n",
       "      <td>6.597648</td>\n",
       "      <td>1.0</td>\n",
       "      <td>3.0</td>\n",
       "      <td>7.0</td>\n",
       "      <td>10.0</td>\n",
       "      <td>28.0</td>\n",
       "    </tr>\n",
       "    <tr>\n",
       "      <th>3</th>\n",
       "      <td>188.0</td>\n",
       "      <td>9.234043</td>\n",
       "      <td>6.651646</td>\n",
       "      <td>1.0</td>\n",
       "      <td>5.0</td>\n",
       "      <td>8.0</td>\n",
       "      <td>12.0</td>\n",
       "      <td>24.0</td>\n",
       "    </tr>\n",
       "  </tbody>\n",
       "</table>\n",
       "</div>"
      ],
      "text/plain": [
       "           count      mean       std  min  25%  50%   75%   max\n",
       "Promotion                                                      \n",
       "1          172.0  8.279070  6.636160  1.0  3.0  6.0  12.0  27.0\n",
       "2          188.0  7.978723  6.597648  1.0  3.0  7.0  10.0  28.0\n",
       "3          188.0  9.234043  6.651646  1.0  5.0  8.0  12.0  24.0"
      ]
     },
     "execution_count": 24,
     "metadata": {},
     "output_type": "execute_result"
    }
   ],
   "source": [
    "df.groupby('Promotion').describe()['AgeOfStore']"
   ]
  },
  {
   "cell_type": "markdown",
   "id": "267a7e56",
   "metadata": {},
   "source": [
    "We can see that all three test groups seem to have similar store age profiles. The average age of stores for the three groups are 8-9 years old and the majority of stores are 10-12 years old or younger."
   ]
  },
  {
   "cell_type": "markdown",
   "id": "33af9b0f",
   "metadata": {},
   "source": [
    "By analyzing how each promotion or test group is comprised, we could verify that the store profiles are similar to each other. This suggests that the sample groups are well controlled and the A/B testing results will be meaningful and trustworthy."
   ]
  },
  {
   "cell_type": "markdown",
   "id": "d022c827",
   "metadata": {},
   "source": [
    "### Statistical hypothesis testing "
   ]
  },
  {
   "cell_type": "markdown",
   "id": "f93827a1",
   "metadata": {},
   "source": [
    "The ultimate goal of A/B testing of different marketing strategies is to find out which strategy is the most efficient and works the best among the others."
   ]
  },
  {
   "cell_type": "markdown",
   "id": "7901acd9",
   "metadata": {},
   "source": [
    "We can compute the t-value and p-value from the equation"
   ]
  },
  {
   "attachments": {
    "Screenshot%202023-12-13%20at%2011.28.47.png": {
     "image/png": "[encoded data removed]"
    }
   },
   "cell_type": "markdown",
   "id": "d4c8e6c8",
   "metadata": {},
   "source": [
    "![Screenshot%202023-12-13%20at%2011.28.47.png](attachment:Screenshot%202023-12-13%20at%2011.28.47.png)"
   ]
  },
  {
   "cell_type": "markdown",
   "id": "2338695d",
   "metadata": {},
   "source": [
    "We can easily compute the mean, standard deviation, and number of samples in each test group by using the mean,\n",
    "std, and count functions respectively."
   ]
  },
  {
   "cell_type": "code",
   "execution_count": 28,
   "id": "9dcf75d3",
   "metadata": {},
   "outputs": [
    {
     "data": {
      "text/plain": [
       "Promotion\n",
       "1    58.099012\n",
       "2    47.329415\n",
       "3    55.364468\n",
       "Name: SalesInThousands, dtype: float64"
      ]
     },
     "execution_count": 28,
     "metadata": {},
     "output_type": "execute_result"
    }
   ],
   "source": [
    "means = df.groupby('Promotion').mean()['SalesInThousands']\n",
    "means"
   ]
  },
  {
   "cell_type": "code",
   "execution_count": 29,
   "id": "8de476e0",
   "metadata": {},
   "outputs": [
    {
     "data": {
      "text/plain": [
       "Promotion\n",
       "1    16.553782\n",
       "2    15.108955\n",
       "3    16.766231\n",
       "Name: SalesInThousands, dtype: float64"
      ]
     },
     "execution_count": 29,
     "metadata": {},
     "output_type": "execute_result"
    }
   ],
   "source": [
    "stds = df.groupby('Promotion').std()['SalesInThousands']\n",
    "stds"
   ]
  },
  {
   "cell_type": "code",
   "execution_count": 30,
   "id": "d05669eb",
   "metadata": {},
   "outputs": [
    {
     "data": {
      "text/plain": [
       "Promotion\n",
       "1    172\n",
       "2    188\n",
       "3    188\n",
       "Name: SalesInThousands, dtype: int64"
      ]
     },
     "execution_count": 30,
     "metadata": {},
     "output_type": "execute_result"
    }
   ],
   "source": [
    "ns = df.groupby('Promotion').count()['SalesInThousands']\n",
    "ns"
   ]
  },
  {
   "cell_type": "markdown",
   "id": "dbf61b47",
   "metadata": {},
   "source": [
    "#### Promotion 1 vs Promotion 2"
   ]
  },
  {
   "cell_type": "code",
   "execution_count": 32,
   "id": "40ecfdae",
   "metadata": {},
   "outputs": [],
   "source": [
    "import numpy as np\n",
    "\n",
    "t_1_vs_2 = (\n",
    "            means.iloc[0] - means.iloc[1]\n",
    "        )/ np.sqrt(\n",
    "            (stds.iloc[0]**2/ns.iloc[0]) + (stds.iloc[1]**2/ns.iloc[1])\n",
    "        )"
   ]
  },
  {
   "cell_type": "code",
   "execution_count": 33,
   "id": "73f617a0",
   "metadata": {},
   "outputs": [
    {
     "data": {
      "text/plain": [
       "6.427528670907475"
      ]
     },
     "execution_count": 33,
     "metadata": {},
     "output_type": "execute_result"
    }
   ],
   "source": [
    "t_1_vs_2"
   ]
  },
  {
   "cell_type": "markdown",
   "id": "2f0dd285",
   "metadata": {},
   "source": [
    "We can compute the t-value for comparing the performances of promotion 1 and promotion 2. The t-value we get from running the code is 6.4275."
   ]
  },
  {
   "cell_type": "code",
   "execution_count": 36,
   "id": "18622c6b",
   "metadata": {},
   "outputs": [],
   "source": [
    "from scipy import stats\n",
    "\n",
    "df_1_vs_1 = ns.iloc[0] + ns.iloc[1] - 2\n",
    "\n",
    "p_1_vs_2 = (1 - stats.t.cdf(t_1_vs_2, df=df_1_vs_1))*2"
   ]
  },
  {
   "cell_type": "markdown",
   "id": "59e8ea92",
   "metadata": {},
   "source": [
    "We first compute the degrees of freedom, which is the sum of the number of samples in both groups minus two. With the t-value calculated previously, we can compute the p-value, using the t.cdf function from scipy package's stats module. "
   ]
  },
  {
   "cell_type": "code",
   "execution_count": 37,
   "id": "043a1f01",
   "metadata": {},
   "outputs": [
    {
     "data": {
      "text/plain": [
       "4.143296816749853e-10"
      ]
     },
     "execution_count": 37,
     "metadata": {},
     "output_type": "execute_result"
    }
   ],
   "source": [
    "p_1_vs_2"
   ]
  },
  {
   "cell_type": "markdown",
   "id": "06963f1d",
   "metadata": {},
   "source": [
    "The p-value we get from running this code is 4.143e-10. This is an extremely small number that is close to 0. As discussed earlier, a p-value closer to 0 suggests that there is a strong evidence against the null hypothesis and that the difference between the two test groups is significant. "
   ]
  },
  {
   "cell_type": "markdown",
   "id": "07796a2d",
   "metadata": {},
   "source": [
    "The average sales (in thousands) for promotion group 1 is about 58.1, and for promotion group 2 it's about 47.33. From our t-test, we have shown that the marketing performances for these two groups are significantly different and that promotion group 1 outperforms promotion group 2. However, if we run a t-test between the promotion group 1 and promotion group 3, we see different results."
   ]
  },
  {
   "cell_type": "markdown",
   "id": "bf3f036b",
   "metadata": {},
   "source": [
    "#### Promotion 1 vs 3"
   ]
  },
  {
   "cell_type": "code",
   "execution_count": 38,
   "id": "769cf998",
   "metadata": {},
   "outputs": [],
   "source": [
    "t_1_vs_3 = (\n",
    "    means.iloc[0] - means.iloc[2]\n",
    ")/ np.sqrt(\n",
    "    (stds.iloc[0]**2/ns.iloc[0]) + (stds.iloc[2]**2/ns.iloc[2])\n",
    ")\n",
    "\n",
    "df_1_vs_3 = ns.iloc[0] + ns.iloc[1] - 2\n",
    "\n",
    "p_1_vs_3 = (1 - stats.t.cdf(t_1_vs_3, df=df_1_vs_3))*2"
   ]
  },
  {
   "cell_type": "code",
   "execution_count": 39,
   "id": "1b27c6f6",
   "metadata": {},
   "outputs": [
    {
     "data": {
      "text/plain": [
       "1.556022430775863"
      ]
     },
     "execution_count": 39,
     "metadata": {},
     "output_type": "execute_result"
    }
   ],
   "source": [
    "t_1_vs_3"
   ]
  },
  {
   "cell_type": "code",
   "execution_count": 40,
   "id": "4078d046",
   "metadata": {},
   "outputs": [
    {
     "data": {
      "text/plain": [
       "0.12058631176434842"
      ]
     },
     "execution_count": 40,
     "metadata": {},
     "output_type": "execute_result"
    }
   ],
   "source": [
    "p_1_vs_3"
   ]
  },
  {
   "cell_type": "markdown",
   "id": "ddd98ffa",
   "metadata": {},
   "source": [
    "Using Scipy to calculate t-value and p-value"
   ]
  },
  {
   "cell_type": "code",
   "execution_count": 41,
   "id": "1fdbaaca",
   "metadata": {},
   "outputs": [],
   "source": [
    "t, p = stats.ttest_ind(\n",
    "    df.loc[df['Promotion'] == 1, 'SalesInThousands'].values, \n",
    "    df.loc[df['Promotion'] == 2, 'SalesInThousands'].values, \n",
    "    equal_var=False\n",
    ")"
   ]
  },
  {
   "cell_type": "code",
   "execution_count": 42,
   "id": "9a9d5184",
   "metadata": {},
   "outputs": [
    {
     "data": {
      "text/plain": [
       "6.42752867090748"
      ]
     },
     "execution_count": 42,
     "metadata": {},
     "output_type": "execute_result"
    }
   ],
   "source": [
    "t"
   ]
  },
  {
   "cell_type": "code",
   "execution_count": 43,
   "id": "c92671ff",
   "metadata": {},
   "outputs": [
    {
     "data": {
      "text/plain": [
       "4.2903687179871785e-10"
      ]
     },
     "execution_count": 43,
     "metadata": {},
     "output_type": "execute_result"
    }
   ],
   "source": [
    "p"
   ]
  },
  {
   "cell_type": "code",
   "execution_count": 44,
   "id": "5c65ce54",
   "metadata": {},
   "outputs": [],
   "source": [
    "t, p = stats.ttest_ind(\n",
    "    df.loc[df['Promotion'] == 1, 'SalesInThousands'].values, \n",
    "    df.loc[df['Promotion'] == 3, 'SalesInThousands'].values, \n",
    "    equal_var=False\n",
    ")"
   ]
  },
  {
   "cell_type": "code",
   "execution_count": 45,
   "id": "383ef923",
   "metadata": {},
   "outputs": [
    {
     "data": {
      "text/plain": [
       "1.5560224307758634"
      ]
     },
     "execution_count": 45,
     "metadata": {},
     "output_type": "execute_result"
    }
   ],
   "source": [
    "t"
   ]
  },
  {
   "cell_type": "code",
   "execution_count": 46,
   "id": "ba64f944",
   "metadata": {},
   "outputs": [
    {
     "data": {
      "text/plain": [
       "0.12059147742229478"
      ]
     },
     "execution_count": 46,
     "metadata": {},
     "output_type": "execute_result"
    }
   ],
   "source": [
    "p"
   ]
  },
  {
   "cell_type": "markdown",
   "id": "e01bfb56",
   "metadata": {},
   "source": [
    "On the surface, the average sales from promotion group 1 (58.1) looks higher than those from promotion group 2 (55.36). However, when we run a t-test between these two groups, we get a t-value of 1.556 and a p-value of 0.121. The computed p-value is much higher than 0.05, which is a generally accepted cut-off line. This suggests that the marketing performance from promotion group 1 is not statistically different from the marketing performance from promotion group 2. Thus, even though promotion group 1's average sales number is higher than the promotion group 2's from the A/B test, the difference is not statistically significant and we cannot conclude that promotion group 1 performs much better than promotion group 2. From these evaluation results, we can conclude that promotion groups 1 and 3 outperform promotion group 2, but the difference between promotion groups 1 and 3 is not statistically significant."
   ]
  },
  {
   "cell_type": "code",
   "execution_count": null,
   "id": "38565d04",
   "metadata": {},
   "outputs": [],
   "source": []
  }
 ],
 "metadata": {
  "kernelspec": {
   "display_name": "Python 3 (ipykernel)",
   "language": "python",
   "name": "python3"
  },
  "language_info": {
   "codemirror_mode": {
    "name": "ipython",
    "version": 3
   },
   "file_extension": ".py",
   "mimetype": "text/x-python",
   "name": "python",
   "nbconvert_exporter": "python",
   "pygments_lexer": "ipython3",
   "version": "3.9.7"
  }
 },
 "nbformat": 4,
 "nbformat_minor": 5
}
